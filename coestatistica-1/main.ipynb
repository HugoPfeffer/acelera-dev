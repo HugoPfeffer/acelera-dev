{
 "cells": [
  {
   "cell_type": "code",
   "execution_count": 13,
   "metadata": {},
   "outputs": [],
   "source": [
    "import pandas as pd"
   ]
  },
  {
   "cell_type": "code",
   "execution_count": 14,
   "metadata": {},
   "outputs": [],
   "source": [
    "df = pd.read_csv('desafio1.csv')"
   ]
  },
  {
   "cell_type": "code",
   "execution_count": 15,
   "metadata": {},
   "outputs": [],
   "source": [
    "target = df[['pontuacao_credito', 'idade', 'nivel_estabilidade', 'saldo_conta', 'numero_produtos', 'possui_cartao_de_credito', 'membro_ativo']]\n",
    "mean = target.mean()\n",
    "median = target.median()\n",
    "std = target.std()\n",
    "mode = target.mode()"
   ]
  },
  {
   "cell_type": "code",
   "execution_count": 16,
   "metadata": {},
   "outputs": [],
   "source": [
    "std = df[['pontuacao_credito', 'idade', 'nivel_estabilidade', 'saldo_conta', 'numero_produtos', 'possui_cartao_de_credito', 'membro_ativo']].std()"
   ]
  },
  {
   "cell_type": "code",
   "execution_count": 9,
   "metadata": {},
   "outputs": [
    {
     "output_type": "execute_result",
     "data": {
      "text/plain": "pontuacao_credito             651.00\nidade                          37.00\nnivel_estabilidade              5.00\nsaldo_conta                 97277.13\nnumero_produtos                 1.00\npossui_cartao_de_credito        1.00\nmembro_ativo                    1.00\ndtype: float64"
     },
     "metadata": {},
     "execution_count": 9
    }
   ],
   "source": [
    "median = df[['pontuacao_credito', 'idade', 'nivel_estabilidade', 'saldo_conta', 'numero_produtos', 'possui_cartao_de_credito', 'membro_ativo']].median()"
   ]
  },
  {
   "cell_type": "code",
   "execution_count": 12,
   "metadata": {},
   "outputs": [
    {
     "output_type": "execute_result",
     "data": {
      "text/plain": "   pontuacao_credito  idade  nivel_estabilidade  saldo_conta  numero_produtos  \\\n0                850     37                   7          0.0                1   \n\n   possui_cartao_de_credito  membro_ativo  \n0                         1             1  ",
      "text/html": "<div>\n<style scoped>\n    .dataframe tbody tr th:only-of-type {\n        vertical-align: middle;\n    }\n\n    .dataframe tbody tr th {\n        vertical-align: top;\n    }\n\n    .dataframe thead th {\n        text-align: right;\n    }\n</style>\n<table border=\"1\" class=\"dataframe\">\n  <thead>\n    <tr style=\"text-align: right;\">\n      <th></th>\n      <th>pontuacao_credito</th>\n      <th>idade</th>\n      <th>nivel_estabilidade</th>\n      <th>saldo_conta</th>\n      <th>numero_produtos</th>\n      <th>possui_cartao_de_credito</th>\n      <th>membro_ativo</th>\n    </tr>\n  </thead>\n  <tbody>\n    <tr>\n      <th>0</th>\n      <td>850</td>\n      <td>37</td>\n      <td>7</td>\n      <td>0.0</td>\n      <td>1</td>\n      <td>1</td>\n      <td>1</td>\n    </tr>\n  </tbody>\n</table>\n</div>"
     },
     "metadata": {},
     "execution_count": 12
    }
   ],
   "source": [
    "mode = df[['pontuacao_credito', 'idade', 'nivel_estabilidade', 'saldo_conta', 'numero_produtos', 'possui_cartao_de_credito', 'membro_ativo']].mode()"
   ]
  },
  {
   "cell_type": "code",
   "execution_count": null,
   "metadata": {},
   "outputs": [],
   "source": []
  }
 ],
 "metadata": {
  "language_info": {
   "codemirror_mode": {
    "name": "ipython",
    "version": 3
   },
   "file_extension": ".py",
   "mimetype": "text/x-python",
   "name": "python",
   "nbconvert_exporter": "python",
   "pygments_lexer": "ipython3",
   "version": "3.7.7-final"
  },
  "orig_nbformat": 2,
  "kernelspec": {
   "name": "python37764bitcodenationcondaf632fc0641774294928f1fa60c31ff34",
   "display_name": "Python 3.7.7 64-bit ('codenation': conda)"
  }
 },
 "nbformat": 4,
 "nbformat_minor": 2
}